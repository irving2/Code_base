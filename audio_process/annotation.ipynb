{
 "cells": [
  {
   "cell_type": "code",
   "execution_count": null,
   "metadata": {
    "collapsed": true
   },
   "outputs": [],
   "source": [
    "import os\n",
    "import IPython.display as ipd\n",
    "import time\n",
    "from IPython.core.display import HTML  \n",
    "import IPython\n",
    "\n",
    "def wavPlayer(filepath):  \n",
    "    # filepath 需要使用相对路径\n",
    "    src = \"\"\"\n",
    "    <head>\n",
    "    <meta http-equiv=\"Content-Type\" content=\"text/html; charset=utf-8\">\n",
    "    <title>Simple Test</title>\n",
    "    </head>\n",
    "    <body>\n",
    "    <audio controls=\"controls\" style=\"width:600px\" >\n",
    "      <source src=\"%s\" type=\"audio/wav\" />\n",
    "      Your browser does not support the audio element.\n",
    "    </audio>\n",
    "    </body>\n",
    "    \"\"\"%(filepath)\n",
    "    ipd.display(HTML(src))\n",
    "\n",
    "def annotate(folder, suffix='.wav'):\n",
    "    try:\n",
    "        # 1.追加方式打 annotation.txt 文件\n",
    "        f = open(os.path.join(folder,'annotation.txt'),'a+')    # 文件句柄移到最后,不存在则创建\n",
    "        f_read = open(os.path.join(folder,'annotation.txt'),'r') \n",
    "        already_done = [line.split()[0].strip() for line in f_read.readlines()]   \n",
    "\n",
    "        for file in [f for f in folder_list if f.endswith(suffix)]:\n",
    "            file_path = os.path.join(folder,file)\n",
    "            # 2.检查当前处理文件是否在annotation.txt文件中,如果在就提示。不给输入\n",
    "            if file_path in already_done:\n",
    "                print(\"{} has already in annotaion.txt,  skip!\".format(file_path))\n",
    "            else:\n",
    "                wavPlayer(file_path)\n",
    "                anotation = input('输入打标时间：')\n",
    "                write_line = '  '.join([file_path, anotation,'\\n'])\n",
    "                f.write(write_line)\n",
    "    except Exception as e:\n",
    "        print(e)\n",
    "    finally:\n",
    "        # 3.关闭文件句柄y\n",
    "        f.close()\n",
    "        f_read.close()\n",
    "        print('所有任务完成，谢谢！~~ 比心 ~~')\n",
    "\n",
    "        \n",
    "folder = './dataset/G0167'\n",
    "# folder = './dataset/speak_8_number_quite/phy_batch08'\n",
    "folder_list = os.listdir(folder) \n",
    "\n",
    "annotate(folder)\n",
    "\n"
   ]
  }
 ],
 "metadata": {
  "kernelspec": {
   "display_name": "Python 3",
   "language": "python",
   "name": "python3"
  },
  "language_info": {
   "codemirror_mode": {
    "name": "ipython",
    "version": 2
   },
   "file_extension": ".py",
   "mimetype": "text/x-python",
   "name": "python",
   "nbconvert_exporter": "python",
   "pygments_lexer": "ipython2",
   "version": "2.7.6"
  },
  "pycharm": {
   "stem_cell": {
    "cell_type": "raw",
    "source": [],
    "metadata": {
     "collapsed": false
    }
   }
  }
 },
 "nbformat": 4,
 "nbformat_minor": 0
}